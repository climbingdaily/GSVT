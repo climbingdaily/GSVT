{
 "cells": [
  {
   "cell_type": "code",
   "execution_count": null,
   "metadata": {},
   "outputs": [],
   "source": [
    "import numpy as np\n",
    "\n",
    "X = -np.array([0.178516 , 0.975856 , 0.12585])  # 新坐标系的 X 方向\n",
    "Y = np.array([ 0.98157225, -0.17505405,  0.07662892])   # 新坐标系的  Y 方向\n",
    "\n",
    "def rot_from_noram_XY(X, Y):\n",
    "    \"\"\"\n",
    "    > Given two vectors $ and $, the function returns the rotation matrix that rotates $ to $\n",
    "    and $ to  \\times Y$\n",
    "    \n",
    "    Args:\n",
    "      X: the vector from the origin to the point on the surface of the sphere\n",
    "      Y: the vector that you want to rotate to the X axis\n",
    "    \"\"\"\n",
    "    X = X / np.linalg.norm(X)\n",
    "    Y = Y / np.linalg.norm(Y)\n",
    "\n",
    "    proj_Y = Y - X * (Y @ X)\n",
    "    Y = proj_Y / np.linalg.norm(proj_Y)\n",
    "\n",
    "    Z = np.cross(X, Y)  \n",
    "\n",
    "    rot = np.stack([X, proj_Y, Z])\n",
    "\n",
    "    return rot\n",
    "\n",
    "print(rot_from_noram_XY(X, Y))"
   ]
  },
  {
   "cell_type": "code",
   "execution_count": null,
   "metadata": {},
   "outputs": [],
   "source": [
    "from math import degrees\n",
    "import numpy as np\n",
    "from scipy.spatial.transform import Rotation as R\n",
    "\n",
    "rr = np.array([[-0.1785159, -0.97585545, -0.12584993],\n",
    "          [0.97906543, -0.18875755, 0.07486167],\n",
    "          [-0.09681884, -0.10986215, 0.98922011]])\n",
    "\n",
    "a = np.array([-0.000610, 0.001425, 0.000452, -0.001284, -0.000316, -0.000059, 0.999999])  # 209.684\n",
    "ra = R.from_quat(a[3:7]).as_matrix()\n",
    "# b = np.array([-0.000304351, 0.000389514, 0.00116199,  0.00173194, 0.000245408, -0.00157945, 0.999997])  # 208.984\n",
    "b = np.array([0.00498622, 0.00486524, 0.00293823, 0.00123562, 0.00398248, -2.85993e-05, 0.999991]) # 209.684\n",
    "rb = R.from_quat(b[3:7]).as_matrix()\n",
    "\n",
    "# rr @ ra == new_rr @ rb\n",
    "new_rr = rr @ ra @ rb.T\n",
    "\n",
    "print(new_rr)\n"
   ]
  }
 ],
 "metadata": {
  "kernelspec": {
   "display_name": "Python 3.9.7 ('base')",
   "language": "python",
   "name": "python3"
  },
  "language_info": {
   "codemirror_mode": {
    "name": "ipython",
    "version": 3
   },
   "file_extension": ".py",
   "mimetype": "text/x-python",
   "name": "python",
   "nbconvert_exporter": "python",
   "pygments_lexer": "ipython3",
   "version": "3.9.7"
  },
  "orig_nbformat": 4,
  "vscode": {
   "interpreter": {
    "hash": "ffb5de4c20585e394510a7cf571b90bbfa80244fa7c2461df9ca2612a2f0719a"
   }
  }
 },
 "nbformat": 4,
 "nbformat_minor": 2
}

{
 "cells": [
  {
   "cell_type": "code",
   "execution_count": 15,
   "metadata": {},
   "outputs": [
    {
     "name": "stdout",
     "output_type": "stream",
     "text": [
      "0.9999997908679483 0.0006420114564709992 -7.800865251743233e-05 1.26542e-05 \n",
      "-0.0006419683115215243 0.9999996416685177 0.0005518509975346913 -0.000968993 \n",
      "7.836291922715845e-05 -0.0005518008030420192 0.9999998446875515 0.00200516 \n",
      "0.0 0.0 0.0 1.0 \n"
     ]
    }
   ],
   "source": [
    "from scipy.spatial.transform import Rotation as R\n",
    "import numpy as np\n",
    "line = '0 1.26542e-05 -0.000968993 0.00200516 1 -0.000275913 -3.90929e-05 -0.000320995 97.6503'\n",
    "line = np.array(line.split(' '))\n",
    "\n",
    "rot = np.eye(4)\n",
    "\n",
    "rot[:3, :3] = R.from_quat(line[[5,6,7,4]]).as_matrix()\n",
    "rot[:3, 3] = line[1:4]\n",
    "\n",
    "for i in range(rot.shape[0]):\n",
    "    for j in range(rot.shape[1]):\n",
    "        print(rot[i, j], end=' ', flush=True)\n",
    "    print('')"
   ]
  },
  {
   "cell_type": "code",
   "execution_count": 16,
   "metadata": {},
   "outputs": [
    {
     "name": "stdout",
     "output_type": "stream",
     "text": [
      "-0.0732464199121484\t-0.9908452435413135\t-0.10294466671169572\t\n",
      "0.9972276091997725\t-0.07162075752019953\t-0.020188178271917993\t\n",
      "0.012644701372746222\t-0.1042560113183413\t0.9944701079626195\t\n"
     ]
    }
   ],
   "source": [
    "import numpy as np\n",
    "\n",
    "X = -np.array([0.0726449, 0.995805, 0.0556361])   # 新坐标系的  X 方向\n",
    "Z = np.array([0.0126447, -0.104256, 0.99447])  # 新坐标系的 z 方向\n",
    "\n",
    "def rot_from_direction(A, B, mode = 'xy'):\n",
    "    \"\"\"\n",
    "    > Given two vectors $ and $, the function returns the rotation matrix that rotates $ to $\n",
    "    and $ to  \\times Y$\n",
    "    \n",
    "    Args:\n",
    "      X: the vector from the origin to the point on the surface of the sphere\n",
    "      Y: the vector that you want to rotate to the X axis\n",
    "\n",
    "    Examples:\n",
    "      Z = np.cross(X, Y)\n",
    "      X = np.cross(Y, Z)\n",
    "      Y = np.cross(Z, X)\n",
    "    \"\"\"\n",
    "    A = A / np.linalg.norm(A)\n",
    "    B = B / np.linalg.norm(B)\n",
    "\n",
    "    proj_B = B - A * (B @ A)\n",
    "    B = proj_B / np.linalg.norm(proj_B)\n",
    "\n",
    "    C = np.cross(A, B)  \n",
    "    if mode == 'xy':\n",
    "      rot = np.stack([A, proj_B, C])\n",
    "    elif mode == 'yz':\n",
    "      rot = np.stack([C, A, proj_B])\n",
    "    elif mode == 'zx':\n",
    "      rot = np.stack([proj_B, C, A])\n",
    "    else:\n",
    "      print('Mode error')\n",
    "\n",
    "    return rot\n",
    "\n",
    "rot = rot_from_direction(Z, X, mode='zx')\n",
    "for i in range(rot.shape[0]):\n",
    "    for j in range(rot.shape[1]):\n",
    "        print(rot[i, j], end='\\t', flush=True)\n",
    "    print('')"
   ]
  },
  {
   "cell_type": "code",
   "execution_count": null,
   "metadata": {},
   "outputs": [],
   "source": [
    "from math import degrees\n",
    "import numpy as np\n",
    "from scipy.spatial.transform import Rotation as R\n",
    "\n",
    "rr = np.array([[-0.1785159, -0.97585545, -0.12584993],\n",
    "          [0.97906543, -0.18875755, 0.07486167],\n",
    "          [-0.09681884, -0.10986215, 0.98922011]])\n",
    "\n",
    "a = np.array([-0.000610, 0.001425, 0.000452, -0.001284, -0.000316, -0.000059, 0.999999])  # 209.684\n",
    "ra = R.from_quat(a[3:7]).as_matrix()\n",
    "# b = np.array([-0.000304351, 0.000389514, 0.00116199,  0.00173194, 0.000245408, -0.00157945, 0.999997])  # 208.984\n",
    "b = np.array([0.00498622, 0.00486524, 0.00293823, 0.00123562, 0.00398248, -2.85993e-05, 0.999991]) # 209.684\n",
    "rb = R.from_quat(b[3:7]).as_matrix()\n",
    "\n",
    "# rr @ ra == new_rr @ rb\n",
    "new_rr = rr @ ra @ rb.T\n",
    "\n",
    "print(new_rr)\n"
   ]
  }
 ],
 "metadata": {
  "kernelspec": {
   "display_name": "Python 3.9.7 ('base')",
   "language": "python",
   "name": "python3"
  },
  "language_info": {
   "codemirror_mode": {
    "name": "ipython",
    "version": 3
   },
   "file_extension": ".py",
   "mimetype": "text/x-python",
   "name": "python",
   "nbconvert_exporter": "python",
   "pygments_lexer": "ipython3",
   "version": "3.9.7"
  },
  "orig_nbformat": 4,
  "vscode": {
   "interpreter": {
    "hash": "ffb5de4c20585e394510a7cf571b90bbfa80244fa7c2461df9ca2612a2f0719a"
   }
  }
 },
 "nbformat": 4,
 "nbformat_minor": 2
}
